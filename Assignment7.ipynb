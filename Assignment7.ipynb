{
  "nbformat": 4,
  "nbformat_minor": 0,
  "metadata": {
    "colab": {
      "provenance": [],
      "authorship_tag": "ABX9TyNHmcjdMrHaHafD3TQXZd4O",
      "include_colab_link": true
    },
    "kernelspec": {
      "name": "python3",
      "display_name": "Python 3"
    },
    "language_info": {
      "name": "python"
    }
  },
  "cells": [
    {
      "cell_type": "markdown",
      "metadata": {
        "id": "view-in-github",
        "colab_type": "text"
      },
      "source": [
        "<a href=\"https://colab.research.google.com/github/ans90990/Assignment7/blob/main/Assignment7.ipynb\" target=\"_parent\"><img src=\"https://colab.research.google.com/assets/colab-badge.svg\" alt=\"Open In Colab\"/></a>"
      ]
    },
    {
      "cell_type": "code",
      "execution_count": 31,
      "metadata": {
        "id": "Nj8KByBg-qLV"
      },
      "outputs": [],
      "source": [
        "import numpy\n",
        "from keras.datasets import cifar10\n",
        "from keras.models import Sequential\n",
        "from keras.layers import Dense\n",
        "from keras.layers import Dropout\n",
        "from keras.layers import Flatten\n",
        "from keras.constraints import max_norm\n",
        "from keras.optimizers import SGD\n",
        "from keras.layers import Conv2D\n",
        "from keras.layers import MaxPooling2D\n",
        "from keras.utils import to_categorical\n",
        "\n",
        "# fix random seed for reproducibility\n",
        "seed = 7\n",
        "numpy.random.seed(seed)\n",
        "# load data\n",
        "(X_train, y_train), (X_test, y_test) = cifar10.load_data()\n",
        "\n",
        "# normalize inputs from 0-255 to 0.0-1.0\n",
        "X_train = X_train.astype('float32')\n",
        "X_test = X_test.astype('float32')\n",
        "X_train = X_train / 255.0\n",
        "X_test = X_test / 255.0\n",
        "# one hot encode outputs\n",
        "y_train = to_categorical(y_train)\n",
        "y_test = to_categorical(y_test)\n",
        "num_classes = y_test.shape[1]\n",
        "# Create the model\n",
        "model = Sequential()"
      ]
    },
    {
      "cell_type": "code",
      "source": [
        "#convolutional input layer 32 feature maps with size of 3x3 with dropout layer at 20%\n",
        "model.add(Conv2D(32, (3, 3), input_shape = (32, 32, 3), padding = 'same', activation = 'relu', kernel_constraint = max_norm(3)))\n",
        "model.add(Dropout(0.2))\n"
      ],
      "metadata": {
        "id": "hGnNtlNm-_uL"
      },
      "execution_count": 32,
      "outputs": []
    },
    {
      "cell_type": "code",
      "source": [
        "#convolutional layer 32 feature maps with size of 3x3 with maxpool layer\n",
        "model.add(Conv2D(32, (3, 3), activation='relu', padding='same', kernel_constraint=max_norm(3)))\n",
        "model.add(MaxPooling2D(pool_size=(2, 2)))"
      ],
      "metadata": {
        "id": "wZvS-igH_vCf"
      },
      "execution_count": 33,
      "outputs": []
    },
    {
      "cell_type": "code",
      "source": [
        "#Convolutional layer, 64 feature maps with a size of 3×3 and a rectifier activation function.\n",
        "# Dropout layer at 20%\n",
        "model.add(Conv2D(64, (3, 3), activation='relu', padding='same', kernel_constraint=max_norm(3)))\n",
        "model.add(Dropout(0.2))"
      ],
      "metadata": {
        "id": "0-CjTYA0AClF"
      },
      "execution_count": 34,
      "outputs": []
    },
    {
      "cell_type": "code",
      "source": [
        "#Convolutional layer, 64 feature maps with a size of 3×3 and a rectifier activation function.\n",
        "#Max Pool layer with size 2×2.\n",
        "model.add(Conv2D(64, (3, 3), activation='relu', padding='same', kernel_constraint=max_norm(3)))\n",
        "model.add(MaxPooling2D((2,2), padding='same'))"
      ],
      "metadata": {
        "id": "9H8osllDASR6"
      },
      "execution_count": 35,
      "outputs": []
    },
    {
      "cell_type": "code",
      "source": [
        "#Convolutional layer, 128 feature maps with a size of 3×3 and a rectifier activation function.\n",
        "#Dropout layer at 20%.\n",
        "model.add(Conv2D(128, (3, 3), activation='relu', padding='same', kernel_constraint=max_norm(3)))\n",
        "model.add(Dropout(0.2))"
      ],
      "metadata": {
        "id": "jPrvcTg1AbLn"
      },
      "execution_count": 36,
      "outputs": []
    },
    {
      "cell_type": "code",
      "source": [
        "#Convolutional layer,128 feature maps with a size of 3×3 and a rectifier activation function.\n",
        "#Max Pool layer with size 2×2.\n",
        "model.add(Conv2D(128, (3, 3), activation='relu', padding='same', kernel_constraint=max_norm(3)))\n",
        "model.add(MaxPooling2D((2, 2), padding = 'same'))"
      ],
      "metadata": {
        "id": "Vo4EubybAlBf"
      },
      "execution_count": 37,
      "outputs": []
    },
    {
      "cell_type": "code",
      "source": [
        "#flatten layer\n",
        "model.add(Flatten())"
      ],
      "metadata": {
        "id": "Vdy9Q4yLAy3n"
      },
      "execution_count": 38,
      "outputs": []
    },
    {
      "cell_type": "code",
      "source": [
        "#dropout layer at 20%\n",
        "model.add(Dropout(0.2))"
      ],
      "metadata": {
        "id": "VFRB55s3A3_4"
      },
      "execution_count": 39,
      "outputs": []
    },
    {
      "cell_type": "code",
      "source": [
        "#fully connected layer with 1024 units and a rectifier activation functino\n",
        "model.add(Dense(num_classes, activation = 'relu'))"
      ],
      "metadata": {
        "id": "Uij0pVdqA8gQ"
      },
      "execution_count": null,
      "outputs": []
    },
    {
      "cell_type": "code",
      "source": [
        "#dropout layer at 20%\n",
        "model.add(Dropout(0.2))"
      ],
      "metadata": {
        "id": "IjKNpmXRBJpg"
      },
      "execution_count": 40,
      "outputs": []
    },
    {
      "cell_type": "code",
      "source": [
        "#fully connected layer with 512 units and a rectifier activation functino\n",
        "model.add(Dense(num_classes, activation = 'relu'))"
      ],
      "metadata": {
        "id": "UqTrUtSgBLGf"
      },
      "execution_count": 41,
      "outputs": []
    },
    {
      "cell_type": "code",
      "source": [
        "#dropout layer at 20%\n",
        "model.add(Dropout(0.2))"
      ],
      "metadata": {
        "id": "-Zj9H7zcBPjs"
      },
      "execution_count": 42,
      "outputs": []
    },
    {
      "cell_type": "code",
      "source": [
        "#fully connected output layer with 10 units and a softmax activation functino\n",
        "model.add(Dense(num_classes, activation='softmax'))"
      ],
      "metadata": {
        "id": "-pjwO-yKCabN"
      },
      "execution_count": 43,
      "outputs": []
    },
    {
      "cell_type": "code",
      "source": [
        "#compile model\n",
        "epochs = 25\n",
        "lrate = 0.01\n",
        "decay = lrate/epochs\n",
        "sgd = SGD(learning_rate=lrate, momentum=0.9, nesterov=False)\n",
        "model.compile(loss='categorical_crossentropy', optimizer=sgd, metrics=['accuracy'])\n",
        "print(model.summary())"
      ],
      "metadata": {
        "colab": {
          "base_uri": "https://localhost:8080/"
        },
        "id": "FjajkUjMDK76",
        "outputId": "8e34b187-9f41-4872-b86d-68329ef89c17"
      },
      "execution_count": 44,
      "outputs": [
        {
          "output_type": "stream",
          "name": "stdout",
          "text": [
            "Model: \"sequential_1\"\n",
            "_________________________________________________________________\n",
            " Layer (type)                Output Shape              Param #   \n",
            "=================================================================\n",
            " conv2d_8 (Conv2D)           (None, 32, 32, 32)        896       \n",
            "                                                                 \n",
            " dropout_6 (Dropout)         (None, 32, 32, 32)        0         \n",
            "                                                                 \n",
            " conv2d_9 (Conv2D)           (None, 32, 32, 32)        9248      \n",
            "                                                                 \n",
            " max_pooling2d_4 (MaxPoolin  (None, 16, 16, 32)        0         \n",
            " g2D)                                                            \n",
            "                                                                 \n",
            " conv2d_10 (Conv2D)          (None, 16, 16, 64)        18496     \n",
            "                                                                 \n",
            " dropout_7 (Dropout)         (None, 16, 16, 64)        0         \n",
            "                                                                 \n",
            " conv2d_11 (Conv2D)          (None, 16, 16, 64)        36928     \n",
            "                                                                 \n",
            " max_pooling2d_5 (MaxPoolin  (None, 8, 8, 64)          0         \n",
            " g2D)                                                            \n",
            "                                                                 \n",
            " conv2d_12 (Conv2D)          (None, 8, 8, 128)         73856     \n",
            "                                                                 \n",
            " dropout_8 (Dropout)         (None, 8, 8, 128)         0         \n",
            "                                                                 \n",
            " conv2d_13 (Conv2D)          (None, 8, 8, 128)         147584    \n",
            "                                                                 \n",
            " max_pooling2d_6 (MaxPoolin  (None, 4, 4, 128)         0         \n",
            " g2D)                                                            \n",
            "                                                                 \n",
            " flatten_1 (Flatten)         (None, 2048)              0         \n",
            "                                                                 \n",
            " dropout_9 (Dropout)         (None, 2048)              0         \n",
            "                                                                 \n",
            " dropout_10 (Dropout)        (None, 2048)              0         \n",
            "                                                                 \n",
            " dense_3 (Dense)             (None, 10)                20490     \n",
            "                                                                 \n",
            " dropout_11 (Dropout)        (None, 10)                0         \n",
            "                                                                 \n",
            " dense_4 (Dense)             (None, 10)                110       \n",
            "                                                                 \n",
            "=================================================================\n",
            "Total params: 307608 (1.17 MB)\n",
            "Trainable params: 307608 (1.17 MB)\n",
            "Non-trainable params: 0 (0.00 Byte)\n",
            "_________________________________________________________________\n",
            "None\n"
          ]
        }
      ]
    },
    {
      "cell_type": "code",
      "source": [
        "#fit the model\n",
        "history = model.fit(X_train, y_train, validation_data = (X_test, y_test), epochs = epochs, batch_size = 32)\n"
      ],
      "metadata": {
        "colab": {
          "base_uri": "https://localhost:8080/"
        },
        "id": "o2tbCwu6DTjF",
        "outputId": "35886cf1-8d1b-4bb0-96ca-6a308cafa1e2"
      },
      "execution_count": 53,
      "outputs": [
        {
          "output_type": "stream",
          "name": "stdout",
          "text": [
            "Epoch 1/25\n",
            "1563/1563 [==============================] - 439s 281ms/step - loss: 0.9882 - accuracy: 0.6616 - val_loss: 0.8718 - val_accuracy: 0.7196\n",
            "Epoch 2/25\n",
            "1563/1563 [==============================] - 396s 253ms/step - loss: 0.9895 - accuracy: 0.6624 - val_loss: 0.8855 - val_accuracy: 0.7224\n",
            "Epoch 3/25\n",
            "1563/1563 [==============================] - 404s 258ms/step - loss: 1.0047 - accuracy: 0.6580 - val_loss: 0.8167 - val_accuracy: 0.7354\n",
            "Epoch 4/25\n",
            "1563/1563 [==============================] - 398s 255ms/step - loss: 0.9868 - accuracy: 0.6647 - val_loss: 0.8028 - val_accuracy: 0.7440\n",
            "Epoch 5/25\n",
            "1563/1563 [==============================] - 402s 257ms/step - loss: 0.9975 - accuracy: 0.6605 - val_loss: 0.8639 - val_accuracy: 0.7115\n",
            "Epoch 6/25\n",
            "1563/1563 [==============================] - 399s 256ms/step - loss: 0.9967 - accuracy: 0.6618 - val_loss: 0.8554 - val_accuracy: 0.7174\n",
            "Epoch 7/25\n",
            "1563/1563 [==============================] - 397s 254ms/step - loss: 1.0102 - accuracy: 0.6550 - val_loss: 0.8737 - val_accuracy: 0.7186\n",
            "Epoch 8/25\n",
            "1563/1563 [==============================] - 400s 256ms/step - loss: 1.0130 - accuracy: 0.6549 - val_loss: 0.8991 - val_accuracy: 0.7075\n",
            "Epoch 9/25\n",
            "1563/1563 [==============================] - 403s 258ms/step - loss: 1.0109 - accuracy: 0.6536 - val_loss: 0.9321 - val_accuracy: 0.6846\n",
            "Epoch 10/25\n",
            "1563/1563 [==============================] - 402s 257ms/step - loss: 1.0113 - accuracy: 0.6555 - val_loss: 0.9486 - val_accuracy: 0.6853\n",
            "Epoch 11/25\n",
            "1563/1563 [==============================] - 400s 256ms/step - loss: 1.0192 - accuracy: 0.6533 - val_loss: 0.9329 - val_accuracy: 0.6907\n",
            "Epoch 12/25\n",
            "1563/1563 [==============================] - 396s 253ms/step - loss: 1.0233 - accuracy: 0.6509 - val_loss: 0.8857 - val_accuracy: 0.7056\n",
            "Epoch 13/25\n",
            "1563/1563 [==============================] - 400s 256ms/step - loss: 1.0263 - accuracy: 0.6521 - val_loss: 0.9670 - val_accuracy: 0.6862\n",
            "Epoch 14/25\n",
            "1563/1563 [==============================] - 397s 254ms/step - loss: 1.0158 - accuracy: 0.6547 - val_loss: 0.8691 - val_accuracy: 0.7216\n",
            "Epoch 15/25\n",
            "1563/1563 [==============================] - 401s 256ms/step - loss: 1.0190 - accuracy: 0.6530 - val_loss: 0.9318 - val_accuracy: 0.6963\n",
            "Epoch 16/25\n",
            "1563/1563 [==============================] - 400s 256ms/step - loss: 1.0282 - accuracy: 0.6494 - val_loss: 0.9276 - val_accuracy: 0.6914\n",
            "Epoch 17/25\n",
            "1563/1563 [==============================] - 403s 258ms/step - loss: 1.0291 - accuracy: 0.6514 - val_loss: 0.9309 - val_accuracy: 0.7028\n",
            "Epoch 18/25\n",
            "1563/1563 [==============================] - 401s 256ms/step - loss: 1.0359 - accuracy: 0.6470 - val_loss: 0.9668 - val_accuracy: 0.6702\n",
            "Epoch 19/25\n",
            "1563/1563 [==============================] - 401s 257ms/step - loss: 1.0494 - accuracy: 0.6436 - val_loss: 0.9331 - val_accuracy: 0.6954\n",
            "Epoch 20/25\n",
            "1563/1563 [==============================] - 404s 259ms/step - loss: 1.0465 - accuracy: 0.6451 - val_loss: 0.9612 - val_accuracy: 0.6844\n",
            "Epoch 21/25\n",
            "1563/1563 [==============================] - 402s 257ms/step - loss: 1.0535 - accuracy: 0.6438 - val_loss: 0.9519 - val_accuracy: 0.6862\n",
            "Epoch 22/25\n",
            "1563/1563 [==============================] - 402s 258ms/step - loss: 1.0628 - accuracy: 0.6379 - val_loss: 0.8718 - val_accuracy: 0.7160\n",
            "Epoch 23/25\n",
            "1563/1563 [==============================] - 401s 257ms/step - loss: 1.0654 - accuracy: 0.6410 - val_loss: 0.9487 - val_accuracy: 0.6902\n",
            "Epoch 24/25\n",
            "1563/1563 [==============================] - 401s 256ms/step - loss: 1.0640 - accuracy: 0.6391 - val_loss: 0.9779 - val_accuracy: 0.6722\n",
            "Epoch 25/25\n",
            "1563/1563 [==============================] - 391s 250ms/step - loss: 1.0564 - accuracy: 0.6435 - val_loss: 0.9061 - val_accuracy: 0.7118\n"
          ]
        }
      ]
    },
    {
      "cell_type": "code",
      "source": [
        "#save model\n",
        "model.save(\"my_model.keras\")"
      ],
      "metadata": {
        "id": "Je5SJ67gDhH9"
      },
      "execution_count": 54,
      "outputs": []
    },
    {
      "cell_type": "code",
      "source": [
        "#evaluate the model\n",
        "scores = model.evaluate(X_test, y_test, verbose=0)\n",
        "print(\"Accuracy: %.2f%%\" % (scores[1]*100))"
      ],
      "metadata": {
        "colab": {
          "base_uri": "https://localhost:8080/"
        },
        "id": "H9hmIVE_D9AN",
        "outputId": "69375011-43b2-4225-d76c-aa4adfd2eaff"
      },
      "execution_count": 55,
      "outputs": [
        {
          "output_type": "stream",
          "name": "stdout",
          "text": [
            "Accuracy: 71.18%\n"
          ]
        }
      ]
    },
    {
      "cell_type": "code",
      "source": [
        "#predict first four images of the test data using the above model\n",
        "predictions = model.predict(X_test)\n",
        "print(\"Predictions for the first sample:\")\n",
        "print(predictions[0])\n",
        "print(predictions[1])\n",
        "print(predictions[2])\n",
        "print(predictions[3])"
      ],
      "metadata": {
        "colab": {
          "base_uri": "https://localhost:8080/"
        },
        "id": "9jtRRaVvExzK",
        "outputId": "101ec0f9-2cf1-4d08-a5a1-b55063a3f713"
      },
      "execution_count": 56,
      "outputs": [
        {
          "output_type": "stream",
          "name": "stdout",
          "text": [
            "313/313 [==============================] - 20s 64ms/step\n",
            "Predictions for the first sample:\n",
            "[0.03433524 0.00480939 0.10859136 0.21826315 0.02544708 0.2339465\n",
            " 0.24794844 0.01000117 0.10808936 0.00856823]\n",
            "[2.2838195e-01 1.1658391e-02 1.5717750e-02 1.8762435e-03 1.1827442e-03\n",
            " 2.5719444e-03 1.1746754e-03 1.1358139e-04 7.3358357e-01 3.7392247e-03]\n",
            "[0.36085334 0.01513838 0.09858095 0.01722789 0.01440055 0.01954742\n",
            " 0.00614464 0.00423189 0.44603524 0.01783976]\n",
            "[0.5156573  0.10047676 0.09875373 0.01868408 0.01150999 0.01066509\n",
            " 0.00324165 0.00293166 0.19207568 0.04600399]\n"
          ]
        }
      ]
    },
    {
      "cell_type": "code",
      "source": [
        "import matplotlib.pyplot as plt\n",
        "plt.plot(history.history['loss'])\n",
        "plt.plot(history.history['val_loss'])\n",
        "plt.show()"
      ],
      "metadata": {
        "colab": {
          "base_uri": "https://localhost:8080/",
          "height": 430
        },
        "id": "ex36WK3VXHqm",
        "outputId": "1fa81ad7-9a1d-49eb-ef79-15411bbbb32b"
      },
      "execution_count": 60,
      "outputs": [
        {
          "output_type": "display_data",
          "data": {
            "text/plain": [
              "<Figure size 640x480 with 1 Axes>"
            ],
            "image/png": "[encoded data removed]"
          },
          "metadata": {}
        }
      ]
    },
    {
      "cell_type": "code",
      "source": [
        "plt.plot(history.history['accuracy'])\n",
        "plt.plot(history.history['val_accuracy'])\n",
        "plt.show()"
      ],
      "metadata": {
        "colab": {
          "base_uri": "https://localhost:8080/",
          "height": 430
        },
        "id": "OfHv4mV7YCKy",
        "outputId": "5b1c9ac0-93f3-4a1e-eef6-97b8a48a0b19"
      },
      "execution_count": 61,
      "outputs": [
        {
          "output_type": "display_data",
          "data": {
            "text/plain": [
              "<Figure size 640x480 with 1 Axes>"
            ],
            "image/png": "[encoded data removed]"
          },
          "metadata": {}
        }
      ]
    }
  ]
}